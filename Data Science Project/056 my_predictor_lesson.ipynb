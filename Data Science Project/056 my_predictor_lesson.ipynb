{
 "cells": [
  {
   "cell_type": "code",
   "execution_count": null,
   "metadata": {},
   "outputs": [],
   "source": [
    "# Import libraries\n",
    "import gzip\n",
    "import json\n",
    "import pickle\n",
    "\n",
    "import pandas as pd\n",
    "\n",
    "\n",
    "# Add wrangle function from lesson 5.4\n",
    "def wrangle(filename):\n",
    "    #open compresesed file, load into dict\n",
    "    with gzip.open(filename, \"r\") as f:\n",
    "            data = json.load(f)\n",
    "        \n",
    "    #turn dict into dataframe\n",
    "    df = pd.DataFrame().from_dict(data[\"data\"]).set_index(\"company_id\")\n",
    "    \n",
    "    return df\n",
    "\n",
    "# Add make_predictions function from lesson 5.3\n",
    "\n",
    "def make_predictions(data_filepath, model_filepath):\n",
    "    # Wrangle JSON file\n",
    "    X_test = wrangle(data_filepath)\n",
    "    # Load model\n",
    "    with open(model_filepath, \"rb\") as f:\n",
    "        model = pickle.load(f)\n",
    "    # Generate predictions\n",
    "    y_test_pred = model.predict(X_test)\n",
    "    # Put predictions into Series with name \"bankrupt\", and same index as X_test\n",
    "    y_test_pred = pd.Series(y_test_pred, index = X_test.index, name = \"bankrupt\")\n",
    "    return y_test_pred\n",
    "\n",
    "\n",
    "\n",
    "\n"
   ]
  }
 ],
 "metadata": {
  "language_info": {
   "name": "python"
  }
 },
 "nbformat": 4,
 "nbformat_minor": 2
}
