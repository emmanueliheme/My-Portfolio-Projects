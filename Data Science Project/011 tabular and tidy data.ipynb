{
 "cells": [
  {
   "cell_type": "code",
   "execution_count": 1,
   "metadata": {},
   "outputs": [],
   "source": [
    "##  1.1. Organizing Tabular Data in Python"
   ]
  },
  {
   "cell_type": "markdown",
   "metadata": {},
   "source": [
    "Information can come in many forms, and part of a data scientist's job is making sure that information is organized in a way that's conducive to analysis. Take for example these five houses from the Mexico real estate dataset we'll use in this project:\n",
    "\n",
    "![Five houses showing price, number of rooms, and area in square meters for each](../images/proj-1.001.png)\n",
    "\n",
    "One common way to organize this information is in a **table**, which is a group of **cells** organized into **rows** and **columns**:\n",
    "\n",
    "![Table, organized into rows and columns, with housing information from previous image](../images/proj-1.002.png)\n",
    "\n",
    "When working with this sort of **tabular data**, it's important to organize row and columns following the principles of \"**[tidy data](https://en.wikipedia.org/wiki/Tidy_data)**.\" What does that mean in the case of our dataset?\n",
    "\n",
    "1. Each row corresponds to a single house in our dataset. We'll call each of these houses an **observation**.\n",
    "2. Each column corresponds to a characteristic of each house. We'll call these **features**.\n",
    "3. Each cell contains only one **value**. \n",
    "\n",
    "![Three copies of table from previous image, emphasizing observations as rows and features as columns](../images/proj-1.003.png)\n",
    "\n",
    "So whenever you encounter a new dataset, make sure your data is \"tidy.\""
   ]
  },
  {
   "cell_type": "markdown",
   "metadata": {},
   "source": [
    "# Tabular Data and Python Data Structures"
   ]
  },
  {
   "cell_type": "markdown",
   "metadata": {},
   "source": [
    "## Working with Lists\n",
    "\n",
    "Python comes with several data structures that we can use to organize tabular data. Let's start by putting a single observation in a **list**."
   ]
  },
  {
   "cell_type": "code",
   "execution_count": 1,
   "metadata": {},
   "outputs": [
    {
     "name": "stdout",
     "output_type": "stream",
     "text": [
      "house_0_list type: <class 'list'>\n",
      "house_0_list length: 3\n"
     ]
    },
    {
     "data": {
      "text/plain": [
       "[115910.26, 128, 4]"
      ]
     },
     "execution_count": 1,
     "metadata": {},
     "output_type": "execute_result"
    }
   ],
   "source": [
    "# Declare variable `house_0_list`\n",
    "house_0_list = [115910.26, 128, 4]\n",
    "\n",
    "# Print object type of `house_0_list`\n",
    "# (We'll learn more about object types in later projects 😉)\n",
    "print(\"house_0_list type:\", type(house_0_list))\n",
    "\n",
    "# Print length of `house_0_list`\n",
    "print(\"house_0_list length:\", len(house_0_list))\n",
    "\n",
    "# Get output of `house_0_list`\n",
    "house_0_list"
   ]
  },
  {
   "cell_type": "code",
   "execution_count": null,
   "metadata": {},
   "outputs": [],
   "source": [
    "# Append price / sq. meter to `house_0_list`\n",
    "house_0_list.append(house_0_price_m2)\n",
    "\n",
    "# Print object type of `house_0_list`\n",
    "print(\"house_0_list type:\", type(house_0_list))\n",
    "\n",
    "# Print length of `house_0_list`\n",
    "print(\"house_0_list length:\", len(house_0_list))\n",
    "\n",
    "# Get output of `house_0_list`\n",
    "house_0_list"
   ]
  },
  {
   "cell_type": "code",
   "execution_count": null,
   "metadata": {},
   "outputs": [],
   "source": [
    "Now that you can work with data for a single house, let's think about how to organize the whole dataset. One option would be to create a list for each observation and then put those together in another list. This is called a [**nested list**](http://127.0.0.1:8888/lab/tree/work/ds_curriculum/%40textbook/Python.ipynb#creating-lists)."
   ]
  },
  {
   "cell_type": "code",
   "execution_count": null,
   "metadata": {},
   "outputs": [],
   "source": [
    "# Declare variable `houses_nested_list`\n",
    "houses_nested_list = [\n",
    "    [115910.26, 128.0, 4.0],\n",
    "    [48718.17, 210.0, 3.0],\n",
    "    [28977.56, 58.0, 2.0],\n",
    "    [36932.27, 79.0, 3.0],\n",
    "    [83903.51, 111.0, 3.0],\n",
    "]\n",
    "\n",
    "# Print `houses_nested_list` type\n",
    "print(\"houses_nested_list type:\", type(houses_nested_list))\n",
    "\n",
    "# Print `houses_nested_list` length\n",
    "print(\"houses_nested_list length:\", len(houses_nested_list))\n",
    "\n",
    "# Get output of `houses_nested_list`\n",
    "houses_nested_list"
   ]
  },
  {
   "cell_type": "code",
   "execution_count": null,
   "metadata": {},
   "outputs": [],
   "source": [
    "# Create for loop to iterate through `houses_nested_list`\n",
    "\n",
    "    # For each observation, append price / sq. meter\n",
    "    \n",
    "for house in houses_nested_list:\n",
    "    price_m2= house[0] / house[1]\n",
    "    #print(price_m2)\n",
    "    house.append(price_m2)\n",
    "\n",
    "# Print `houses_nested_list` type\n",
    "print(\"houses_nested_list type:\", type(houses_nested_list))\n",
    "\n",
    "# Print `houses_nested_list` length\n",
    "print(\"houses_nested_list length:\", len(houses_nested_list))\n",
    "\n",
    "# Get output of `houses_nested_list`\n",
    "houses_nested_list"
   ]
  },
  {
   "cell_type": "code",
   "execution_count": null,
   "metadata": {},
   "outputs": [],
   "source": [
    "# Declare variable `house_0_dict`\n",
    "house_0_dict = {\n",
    "    \"price_approx_usd\": 115910.26,\n",
    "    \"surface_covered_in_m2\": 128,\n",
    "    \"rooms\": 4,\n",
    "}\n",
    "\n",
    "# Print `house_0_dict` type\n",
    "print(\"house_0_dict type:\", type(house_0_dict))\n",
    "\n",
    "# Get output of `house_0_dict`\n",
    "house_0_dict"
   ]
  },
  {
   "cell_type": "code",
   "execution_count": null,
   "metadata": {},
   "outputs": [],
   "source": [
    "# Add \"price_per_m2\" key-value pair to `house_0_dict`\n",
    "house_0_dict[\"price_per_m2\"] = house_0_dict[\"price_approx_usd\"]/house_0_dict[\"surface_covered_in_m2\"]\n",
    "\n",
    "# Get output of `house_0_dict`\n",
    "house_0_dict"
   ]
  },
  {
   "cell_type": "code",
   "execution_count": null,
   "metadata": {},
   "outputs": [],
   "source": [
    "# Declare variable `houses_rowwise`\n",
    "houses_rowwise = [\n",
    "    {\n",
    "        \"price_approx_usd\": 115910.26,\n",
    "        \"surface_covered_in_m2\": 128,\n",
    "        \"rooms\": 4,\n",
    "    },\n",
    "    {\n",
    "        \"price_approx_usd\": 48718.17,\n",
    "        \"surface_covered_in_m2\": 210,\n",
    "        \"rooms\": 3,\n",
    "    },\n",
    "    {\n",
    "        \"price_approx_usd\": 28977.56,\n",
    "        \"surface_covered_in_m2\": 58,\n",
    "        \"rooms\": 2,\n",
    "    },\n",
    "    {\n",
    "        \"price_approx_usd\": 36932.27,\n",
    "        \"surface_covered_in_m2\": 79,\n",
    "        \"rooms\": 3,\n",
    "    },\n",
    "    {\n",
    "        \"price_approx_usd\": 83903.51,\n",
    "        \"surface_covered_in_m2\": 111,\n",
    "        \"rooms\": 3,\n",
    "    },\n",
    "]\n",
    "\n",
    "# Print `houses_rowwise` object type\n",
    "print(\"houses_rowwise type:\", type(houses_rowwise))\n",
    "\n",
    "# Print `houses_rowwise` length\n",
    "print(\"houses_rowwise length:\", len(houses_rowwise))\n",
    "\n",
    "# Get output of `houses_rowwise`\n",
    "houses_rowwise"
   ]
  },
  {
   "cell_type": "code",
   "execution_count": null,
   "metadata": {},
   "outputs": [],
   "source": [
    "# Create for loop to iterate through `houses_rowwise`\n",
    "for house in houses_rowwise:\n",
    "    #print(house)\n",
    "    house[\"price_per_m2\"] = house[\"price_approx_usd\"]/house[\"surface_covered_in_m2\"]\n",
    "\n",
    "    \n",
    "    # For each observation, add \"price_per_m2\" key-value pair\n",
    "\n",
    "\n",
    "# Print `houses_rowwise` object type\n",
    "print(\"houses_rowwise type:\", type(houses_rowwise))\n",
    "\n",
    "# Print `houses_rowwise` length\n",
    "print(\"houses_rowwise length:\", len(houses_rowwise))\n",
    "\n",
    "# Get output of `houses_rowwise`\n",
    "houses_rowwise"
   ]
  },
  {
   "cell_type": "code",
   "execution_count": null,
   "metadata": {},
   "outputs": [],
   "source": [
    "# Declare `house_prices` as empty list\n",
    "house_prices = []\n",
    "\n",
    "\n",
    "# Iterate through `houses_rowwise`\n",
    "for house in houses_rowwise:\n",
    "    print(house[\"price_approx_usd\"])\n",
    "    house_prices.append(house[\"price_approx_usd\"])\n",
    "    # For each house, append \"price_approx_usd\" to `house_prices`\n",
    "\n",
    "print(house_prices)\n",
    "# Calculate `mean_house_price` using `house_prices`\n",
    "mean_house_price = sum(house_prices) / len(house_prices)\n",
    "\n",
    "# Print `mean_house_price` object type\n",
    "print(\"mean_house_price type:\", type(mean_house_price))\n",
    "\n",
    "# Get output of `mean_house_price`\n",
    "mean_house_price"
   ]
  },
  {
   "cell_type": "code",
   "execution_count": null,
   "metadata": {},
   "outputs": [],
   "source": [
    "# Declare variable `houses_columnwise`\n",
    "houses_columnwise = {\n",
    "    \"price_approx_usd\": [115910.26, 48718.17, 28977.56, 36932.27, 83903.51],\n",
    "    \"surface_covered_in_m2\": [128.0, 210.0, 58.0, 79.0, 111.0],\n",
    "    \"rooms\": [4.0, 3.0, 2.0, 3.0, 3.0],\n",
    "}\n",
    "\n",
    "# Print `houses_columnwise` object type\n",
    "print(\"houses_columnwise type:\", type(houses_columnwise))\n",
    "\n",
    "# Get output of `houses_columnwise`\n",
    "houses_columnwise"
   ]
  },
  {
   "cell_type": "code",
   "execution_count": null,
   "metadata": {},
   "outputs": [],
   "source": [
    "# Calculate `mean_house_price` using `houses_columnwise`\n",
    "mean_house_price = sum(houses_columnwise[\"price_approx_usd\"])/ len(houses_columnwise[\"price_approx_usd\"])\n",
    "\n",
    "# Print `mean_house_price` object type\n",
    "print(\"mean_house_price type:\", type(mean_house_price))\n",
    "\n",
    "# Get output of `mean_house_price`\n",
    "mean_house_price"
   ]
  },
  {
   "cell_type": "code",
   "execution_count": null,
   "metadata": {},
   "outputs": [],
   "source": [
    "# Add \"price_per_m2\" key-value pair for `houses_columnwise`\n",
    "#houses_columnwise[\"price_per_m2\"] = \n",
    "price = houses_columnwise[\"price_approx_usd\"]\n",
    "area = houses_columnwise[\"surface_covered_in_m2\"]\n",
    "\n",
    "price_per_m2 = []\n",
    "\n",
    "for p, a in zip(price,area):\n",
    "    #print(\"price:\", p)\n",
    "    #print(\"area:\", a)\n",
    "    price_m2 = p/a\n",
    "    print(price_m2)\n",
    "    price_per_m2.append(price_m2)\n",
    "print(price_per_m2)\n",
    "houses_columnwise[\"price_per_m2\"] = price_per_m2\n",
    "# Print `houses_columnwise` object type\n",
    "print(\"houses_columnwise type:\", type(houses_columnwise))\n",
    "\n",
    "# Get output of `houses_columnwise`\n",
    "houses_columnwise"
   ]
  },
  {
   "cell_type": "code",
   "execution_count": null,
   "metadata": {},
   "outputs": [],
   "source": [
    "# Import pandas library, aliased as `pd`\n",
    "import pandas as pd\n",
    "\n",
    "# Declare variable `df_houses`\n",
    "df_houses = pd.DataFrame(houses_columnwise)\n",
    "\n",
    "# Print `df_houses` object type\n",
    "print(\"df_houses type:\", type(df_houses))\n",
    "\n",
    "# Print `df_houses` shape\n",
    "print(\"df_houses shape:\", df_houses.shape)\n",
    "\n",
    "# Get output of `df_houses`\n",
    "df_houses"
   ]
  }
 ],
 "metadata": {
  "kernelspec": {
   "display_name": "base",
   "language": "python",
   "name": "python3"
  },
  "language_info": {
   "codemirror_mode": {
    "name": "ipython",
    "version": 3
   },
   "file_extension": ".py",
   "mimetype": "text/x-python",
   "name": "python",
   "nbconvert_exporter": "python",
   "pygments_lexer": "ipython3",
   "version": "3.11.4"
  }
 },
 "nbformat": 4,
 "nbformat_minor": 2
}
