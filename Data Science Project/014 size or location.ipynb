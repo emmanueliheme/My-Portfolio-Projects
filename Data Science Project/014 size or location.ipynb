{
 "cells": [
  {
   "cell_type": "markdown",
   "metadata": {},
   "source": [
    "### Location or Size: What Influences House Prices in Mexico?"
   ]
  },
  {
   "cell_type": "code",
   "execution_count": null,
   "metadata": {},
   "outputs": [],
   "source": [
    "import matplotlib.pyplot as plt\n",
    "import pandas as pd"
   ]
  },
  {
   "cell_type": "code",
   "execution_count": null,
   "metadata": {},
   "outputs": [],
   "source": [
    "# Import \"data/mexico-real-estate-clean.csv\"\n",
    "df = pd.read_csv(\"data/mexico-real-estate-clean.csv\")\n",
    "\n",
    "# Print object type, shape, and head\n",
    "print(\"df type:\", type(df))\n",
    "print(\"df shape:\", df.shape)\n",
    "df.head()"
   ]
  },
  {
   "cell_type": "markdown",
   "metadata": {},
   "source": [
    "###  Research Question 1: Which state has the most expensive real estate market?\n",
    "\n",
    "Do housing prices vary by state? If so, which are the most expensive states for purchasing a home? During our exploratory data analysis, we used descriptive statistics like mean and median to get an idea of the \"typical\" house price in Mexico. Now, we need to break that calculation down by state and visualize the results.\n",
    "\n",
    "We know in which state each house is located thanks to the \"state\" column. The next step is to divide our dataset into groups (one per state) and calculate the mean house price for each group.\n",
    "\n"
   ]
  },
  {
   "cell_type": "markdown",
   "metadata": {},
   "source": [
    "Task 1.4.2: Use the groupby method to create a Series named mean_price_by_state, where the index contains each state in the dataset and the values correspond to the mean house price for that state. Make sure your Series is sorted from highest to lowest mean price."
   ]
  },
  {
   "cell_type": "code",
   "execution_count": null,
   "metadata": {},
   "outputs": [],
   "source": [
    "# Declare variable `mean_price_by_state`\n",
    "mean_price_by_state = df.groupby(\"state\")[\"price_usd\"].mean(\"\").sort_values(ascending=False)\n",
    "\n",
    "# Print object type, shape, and head\n",
    "print(\"mean_price_by_state type:\", type(mean_price_by_state))\n",
    "print(\"mean_price_by_state shape:\", mean_price_by_state.shape)\n",
    "mean_price_by_state.head(10)"
   ]
  },
  {
   "cell_type": "code",
   "execution_count": null,
   "metadata": {},
   "outputs": [],
   "source": [
    "# Create bar chart from `mean_price_by_state` using pandas\n",
    "mean_price_by_state.plot(\n",
    "    kind = \"bar\",\n",
    "    xlabel= \"State\",\n",
    "    ylabel = \"price [usd]\",\n",
    "    title = \"Mean Price by State\"\n",
    ")\n"
   ]
  },
  {
   "cell_type": "code",
   "execution_count": null,
   "metadata": {},
   "outputs": [],
   "source": [
    "# Create \"price_per_m2\" column\n",
    "df[\"price_per_m2\"] = df[\"price_usd\"] / df[\"area_m2\"]\n",
    "\n",
    "# Print object type, shape, and head\n",
    "print(\"df type:\", type(df))\n",
    "print(\"df shape:\", df.shape)\n",
    "df.head()"
   ]
  },
  {
   "cell_type": "code",
   "execution_count": null,
   "metadata": {},
   "outputs": [],
   "source": [
    "# Group `df` by \"state\", create bar chart of \"price_per_m2\"\n",
    "(df.groupby(\"state\")\n",
    " [\"price_per_m2\"]\n",
    " .mean()\n",
    " .sort_values(ascending = False)\n",
    "     .plot(\n",
    "     kind=(\"bar\"),\n",
    "     xlabel=(\"State\"),\n",
    "     ylabel=(\"Mean Price per M2 [usd]\"),\n",
    "     title=(\"Mean House Price per M2 by State\")\n",
    "     )\n",
    "\n",
    ")\n"
   ]
  },
  {
   "cell_type": "markdown",
   "metadata": {},
   "source": [
    "### Research Question 2: Is there a relationship between home size and price\n",
    "\n",
    "From our previous question, we know that the location of a home affects its price (especially if it's in Mexico City), but what about home size? Does the size of a house influence price?\n",
    "\n",
    "A scatter plot can be helpful when evaluating the relationship between two columns because it lets you see if two variables are correlated — in this case, if an increase in home size is associated with an increase in price."
   ]
  },
  {
   "cell_type": "code",
   "execution_count": null,
   "metadata": {},
   "outputs": [],
   "source": [
    "# Create scatter plot of \"price_usd\" vs \"area_m2\"\n",
    "plt.scatter(x=df[\"price_usd\"], y = df[\"area_m2\"])\n",
    "plt.xlabels = (\"Price[usd]\")\n",
    "plt.ylabels = (\"area[m2]\")\n",
    "plt.title=(\"Price VS Area\");\n",
    "\n",
    "# Add x-axis label\n",
    "\n",
    "\n",
    "# Add y-axis label\n",
    "\n",
    "\n",
    "# Add title\n"
   ]
  },
  {
   "cell_type": "code",
   "execution_count": null,
   "metadata": {},
   "outputs": [],
   "source": [
    "# Calculate correlation of \"price_usd\" and \"area_m2\"\n",
    "p_correlation = df[\"area_m2\"].corr(df[\"price_usd\"])\n",
    "print(p_correlation)\n",
    "\n",
    "# Print correlation coefficient\n",
    "print(\"Correlation of 'area_m2' and 'price_usd' (all Mexico):\", p_correlation)"
   ]
  },
  {
   "cell_type": "code",
   "execution_count": null,
   "metadata": {},
   "outputs": [],
   "source": [
    "# Declare variable `df_morelos` by subsetting `df`\n",
    "df_morelos = df[df[\"state\"] == \"Morelos\"]\n",
    "\n",
    "# Print object type, shape, and head\n",
    "print(\"df_morelos type:\", type(df_morelos))\n",
    "print(\"df_morelos shape:\", df_morelos.shape)\n",
    "df_morelos.head()\n"
   ]
  },
  {
   "cell_type": "code",
   "execution_count": null,
   "metadata": {},
   "outputs": [],
   "source": [
    "# Create scatter plot of \"price_usd\" vs \"area_m2\" in Morelos\n",
    "plt.scatter(x=df_morelos[\"area_m2\"], y=df_morelos[\"price_usd\"])\n",
    "plt.xlabels=(\"Area[m2]\")\n",
    "plt.ylabels=(\"Price[usd]\")\n",
    "plt.title=(\"Morelos: Price Vs Area\")\n",
    "\n",
    "# Add x-axis label\n",
    "\n",
    "\n",
    "# Add y-axis label\n",
    "\n",
    "\n",
    "# Add title"
   ]
  },
  {
   "cell_type": "code",
   "execution_count": null,
   "metadata": {},
   "outputs": [],
   "source": [
    "# Calculate correlation of \"price_usd\" and \"area_m2\" in `df_morelos`\n",
    "p_correlation = df_morelos[\"area_m2\"].corr(df_morelos[\"price_usd\"])\n",
    "\n",
    "# Print correlation coefficient\n",
    "print(\"Correlation of 'area_m2' and 'price_usd' (Morelos):\", p_correlation)"
   ]
  },
  {
   "cell_type": "code",
   "execution_count": null,
   "metadata": {},
   "outputs": [],
   "source": [
    "# Declare variable `df_mexico_city` by subsetting `df`\n",
    "df_mexico_city = df[df[\"state\"] == \"Distrito Federal\"]\n",
    "\n",
    "# Print object type and shape\n",
    "print(\"df_mexico_city type:\", type(df_mexico_city))\n",
    "print(\"df_mexico_city shape:\", df_mexico_city.shape)\n",
    "\n",
    "# Create a scatter plot \"price_usd\" vs \"area_m2\" in Distrito Federal\n",
    "plt.scatter(df_mexico_city[\"area_m2\"], df_mexico_city[\"price_usd\"])  # REMOVERHS\n",
    "\n",
    "# Add x-axis label\n",
    "plt.xlabel=(\"Area [sq meters]\")  # REMOVERHS\n",
    "\n",
    "# Add y-axis label\n",
    "plt.ylabel=(\"Price [USD]\")  # REMOVERHS\n",
    "\n",
    "# Add title\n",
    "plt.title=(\"Mexico City: Price vs. Area\")  # REMOVERHS\n",
    "\n",
    "# Calculate correlation of \"price_usd\" and \"area_m2\" in `df_mexico_city`\n",
    "p_correlation = df_mexico_city[\"area_m2\"].corr(df_mexico_city[\"price_usd\"])\n",
    "\n",
    "# Print correlation coefficient\n",
    "print(\"Correlation of 'area_m2' and 'price_usd' (Mexico City):\", p_correlation)"
   ]
  }
 ],
 "metadata": {
  "language_info": {
   "name": "python"
  }
 },
 "nbformat": 4,
 "nbformat_minor": 2
}
