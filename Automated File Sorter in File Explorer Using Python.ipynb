{
 "cells": [
  {
   "cell_type": "markdown",
   "id": "6e53c2f3-9a79-4d07-9ffc-8d19dda2806e",
   "metadata": {},
   "source": [
    "#  Automatic File Sorter in File Explorer"
   ]
  },
  {
   "cell_type": "code",
   "execution_count": 12,
   "id": "8354b6b4-10c2-49fd-bce8-746b205b6ed0",
   "metadata": {},
   "outputs": [],
   "source": [
    "import os, shutil"
   ]
  },
  {
   "cell_type": "code",
   "execution_count": 13,
   "id": "e3986b3d-2b73-42eb-95c1-faaa0cfb49f2",
   "metadata": {},
   "outputs": [],
   "source": [
    "path = r\"C:/Users/HomePC/Desktop/Emma Flash/\""
   ]
  },
  {
   "cell_type": "code",
   "execution_count": 25,
   "id": "021643d4-0840-4366-85c1-40b9f240d620",
   "metadata": {},
   "outputs": [],
   "source": [
    "#show all Paths in the directory\n",
    "file_names = os.listdir(path)\n"
   ]
  },
  {
   "cell_type": "code",
   "execution_count": 15,
   "id": "751af029-9d2c-4af0-bd74-8062a77c6e9d",
   "metadata": {},
   "outputs": [
    {
     "data": {
      "text/plain": [
       "False"
      ]
     },
     "execution_count": 15,
     "metadata": {},
     "output_type": "execute_result"
    }
   ],
   "source": [
    "os.path.exists(path + \"word files\")"
   ]
  },
  {
   "cell_type": "code",
   "execution_count": 24,
   "id": "c7301e3b-9632-431d-bea9-bb8eb22334fa",
   "metadata": {},
   "outputs": [],
   "source": [
    "folder_names = [\"word docs\", \"pdf\", \"audio\"]\n",
    "\n",
    "for loop in range(0,3):\n",
    "    if not os.path.exists(path + folder_names[loop]):\n",
    "        os.makedirs(path + folder_names[loop])\n",
    "for file in file_names:\n",
    "    if \".docx\" in file and not os.path.exists(path + \"word docs/\" + file):\n",
    "        shutil.move(path + file, path + \"word docs/\" + file)\n",
    "    elif \".doc\" in file and not os.path.exists(path + \"word docs/\" + file):\n",
    "        shutil.move(path + file, path + \"word docs/\" + file)\n",
    "    elif \".pdf\" in file and not os.path.exists(path + \"pdf/\" + file):\n",
    "        shutil.move(path + file, path + \"pdf/\" + file)\n",
    "    elif \".mp3\" in file and not os.path.exists(path + \"audio/\" + file):\n",
    "        shutil.move(path + file, path + \"audio/\" + file)\n",
    "    elif \"mp4\" in file and not os.path.exists(path + \"audio/\" + file):\n",
    "        shutil.move(path + file, path + \"audio/\" + file)\n"
   ]
  },
  {
   "cell_type": "code",
   "execution_count": 28,
   "id": "c35dc01e-1303-4b11-9ef3-0833d3a0bafc",
   "metadata": {},
   "outputs": [
    {
     "name": "stdout",
     "output_type": "stream",
     "text": [
      "[2025-05-30 10:50:12.028511] Sorting complete.\n"
     ]
    }
   ],
   "source": [
    "import os\n",
    "import shutil\n",
    "from datetime import datetime\n",
    "\n",
    "# Customize this path\n",
    "path = r\"C:/Users/HomePC/Desktop/Emma Flash/\"\n",
    "\n",
    "# Sort files into subfolders based on extension\n",
    "def sort_files(folder):\n",
    "    for filename in os.listdir(folder):\n",
    "        file_path = os.path.join(folder, filename)\n",
    "\n",
    "        if os.path.isfile(file_path):\n",
    "            ext = filename.split('.')[-1].lower()\n",
    "            dest_folder = os.path.join(folder, ext + \"_files\")\n",
    "\n",
    "            if not os.path.exists(dest_folder):\n",
    "                os.makedirs(dest_folder)\n",
    "\n",
    "            shutil.move(file_path, os.path.join(dest_folder, filename))\n",
    "\n",
    "    print(f\"[{datetime.now()}] Sorting complete.\")\n",
    "\n",
    "sort_files(path)\n"
   ]
  },
  {
   "cell_type": "code",
   "execution_count": 8,
   "id": "f37b64f7-d212-438c-bf3c-cc1b0ca8114d",
   "metadata": {},
   "outputs": [],
   "source": []
  },
  {
   "cell_type": "code",
   "execution_count": null,
   "id": "23004d4b-5d94-42f4-8b42-9a36af2bb864",
   "metadata": {},
   "outputs": [],
   "source": []
  }
 ],
 "metadata": {
  "kernelspec": {
   "display_name": "Python 3 (ipykernel)",
   "language": "python",
   "name": "python3"
  },
  "language_info": {
   "codemirror_mode": {
    "name": "ipython",
    "version": 3
   },
   "file_extension": ".py",
   "mimetype": "text/x-python",
   "name": "python",
   "nbconvert_exporter": "python",
   "pygments_lexer": "ipython3",
   "version": "3.12.7"
  }
 },
 "nbformat": 4,
 "nbformat_minor": 5
}
